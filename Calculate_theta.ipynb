{
 "cells": [
  {
   "cell_type": "code",
   "execution_count": 1,
   "id": "3c29193c-c7f2-4fbe-8336-06c925e92a68",
   "metadata": {},
   "outputs": [],
   "source": [
    "import numpy as np"
   ]
  },
  {
   "cell_type": "code",
   "execution_count": 2,
   "id": "ab803e70-4e8e-480d-b334-0a8512f8a9a2",
   "metadata": {},
   "outputs": [],
   "source": [
    "np.random.seed(10)"
   ]
  },
  {
   "cell_type": "code",
   "execution_count": 22,
   "id": "d6d9041c-dfb8-4ba3-a191-4976ed2b61e2",
   "metadata": {},
   "outputs": [
    {
     "name": "stdout",
     "output_type": "stream",
     "text": [
      "[3 1 7 8 9]\n",
      "5.6\n"
     ]
    }
   ],
   "source": [
    "x = np.random.randint (1, 10, 5)\n",
    "xm = np.mean(x)\n",
    "print(x)\n",
    "print(xm)"
   ]
  },
  {
   "cell_type": "code",
   "execution_count": 23,
   "id": "d81440bc-5780-4dbf-9bb5-872a7d66eacc",
   "metadata": {},
   "outputs": [
    {
     "name": "stdout",
     "output_type": "stream",
     "text": [
      "[-2.5999999999999996, -4.6, 1.4000000000000004, 2.4000000000000004, 3.4000000000000004]\n"
     ]
    }
   ],
   "source": [
    "i = 0\n",
    "arrx = []\n",
    "while i < len(x):\n",
    "    xp = x[i] - xm\n",
    "    arrx.append(xp)\n",
    "    i += 1\n",
    "print(arrx)    "
   ]
  },
  {
   "cell_type": "code",
   "execution_count": 27,
   "id": "064f2088-513d-4a82-a0fc-53f8e414c82d",
   "metadata": {},
   "outputs": [
    {
     "name": "stdout",
     "output_type": "stream",
     "text": [
      "1.7763568394002505e-15\n"
     ]
    }
   ],
   "source": [
    "zigma_x = np.sum(arrx)\n",
    "print(zigma_x)"
   ]
  },
  {
   "cell_type": "code",
   "execution_count": 6,
   "id": "85d61b6d-f70c-434f-afb8-5642f2439142",
   "metadata": {},
   "outputs": [
    {
     "name": "stdout",
     "output_type": "stream",
     "text": [
      "[9 1 9 7 5]\n",
      "6.2\n"
     ]
    }
   ],
   "source": [
    "y = np.random.randint (1, 10, 5)\n",
    "ym = np.mean(y)\n",
    "print(y)\n",
    "print(ym)"
   ]
  },
  {
   "cell_type": "code",
   "execution_count": 9,
   "id": "24e62150-8005-46db-b343-dc74f1f08641",
   "metadata": {},
   "outputs": [
    {
     "name": "stdout",
     "output_type": "stream",
     "text": [
      "[ 2.8 -5.2  2.8  0.8 -1.2]\n"
     ]
    }
   ],
   "source": [
    "i = 0\n",
    "arry = []\n",
    "while i < len(y):\n",
    "    yp = y[i] - ym\n",
    "    arry.append(yp)\n",
    "    i += 1\n",
    "print(arry)    "
   ]
  },
  {
   "cell_type": "code",
   "execution_count": 31,
   "id": "e733c5c0-9746-46e7-9538-71bcb94dc5e8",
   "metadata": {},
   "outputs": [
    {
     "name": "stdout",
     "output_type": "stream",
     "text": [
      "-0.0\n"
     ]
    }
   ],
   "source": [
    "zigma_y = np.sum(arry)\n",
    "print(zigma_y)"
   ]
  },
  {
   "cell_type": "code",
   "execution_count": 32,
   "id": "02c32d1e-c4a2-48f2-afb4-ef769b7c1044",
   "metadata": {},
   "outputs": [
    {
     "data": {
      "text/plain": [
       "-0.5"
      ]
     },
     "execution_count": 32,
     "metadata": {},
     "output_type": "execute_result"
    }
   ],
   "source": [
    "theta = ((zigma_x) * (zigma_y))/(zigma_x)**2\n",
    "theta    "
   ]
  },
  {
   "cell_type": "code",
   "execution_count": 33,
   "id": "2e6b164b-a48e-46be-afdd-c3db7408dc74",
   "metadata": {},
   "outputs": [
    {
     "data": {
      "text/plain": [
       "array([10.5,  1.5, 12.5, 11. ,  9.5])"
      ]
     },
     "execution_count": 33,
     "metadata": {},
     "output_type": "execute_result"
    }
   ],
   "source": [
    "c = y - theta * x\n",
    "c"
   ]
  }
 ],
 "metadata": {
  "kernelspec": {
   "display_name": "Python 3 (ipykernel)",
   "language": "python",
   "name": "python3"
  },
  "language_info": {
   "codemirror_mode": {
    "name": "ipython",
    "version": 3
   },
   "file_extension": ".py",
   "mimetype": "text/x-python",
   "name": "python",
   "nbconvert_exporter": "python",
   "pygments_lexer": "ipython3",
   "version": "3.11.6"
  }
 },
 "nbformat": 4,
 "nbformat_minor": 5
}
