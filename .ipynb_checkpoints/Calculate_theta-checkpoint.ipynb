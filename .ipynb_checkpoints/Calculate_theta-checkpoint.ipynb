{
 "cells": [
  {
   "cell_type": "code",
   "execution_count": null,
   "id": "3c29193c-c7f2-4fbe-8336-06c925e92a68",
   "metadata": {},
   "outputs": [],
   "source": [
    "import numpy as np"
   ]
  },
  {
   "cell_type": "code",
   "execution_count": null,
   "id": "ab803e70-4e8e-480d-b334-0a8512f8a9a2",
   "metadata": {},
   "outputs": [],
   "source": [
    "np.random.seed(10)"
   ]
  },
  {
   "cell_type": "code",
   "execution_count": null,
   "id": "d6d9041c-dfb8-4ba3-a191-4976ed2b61e2",
   "metadata": {},
   "outputs": [],
   "source": [
    "x = np.random.randint (1, 10, 4)\n",
    "x"
   ]
  },
  {
   "cell_type": "code",
   "execution_count": null,
   "id": "d81440bc-5780-4dbf-9bb5-872a7d66eacc",
   "metadata": {},
   "outputs": [],
   "source": [
    "x = np.random.randint (1, 10, 4)\n",
    "i = 0\n",
    "arrx = []\n",
    "while i < len(x):\n",
    "    xp = x[i] - np.mean(x)\n",
    "    arrx.append(xp)\n",
    "    i += 1\n",
    "print(arrx)    "
   ]
  },
  {
   "cell_type": "code",
   "execution_count": 40,
   "id": "85d61b6d-f70c-434f-afb8-5642f2439142",
   "metadata": {},
   "outputs": [
    {
     "data": {
      "text/plain": [
       "array([5, 1, 2, 1])"
      ]
     },
     "execution_count": 40,
     "metadata": {},
     "output_type": "execute_result"
    }
   ],
   "source": [
    "y = np.random.randint (1, 10, 4)\n",
    "y"
   ]
  },
  {
   "cell_type": "code",
   "execution_count": null,
   "id": "24e62150-8005-46db-b343-dc74f1f08641",
   "metadata": {},
   "outputs": [],
   "source": []
  }
 ],
 "metadata": {
  "kernelspec": {
   "display_name": "Python 3 (ipykernel)",
   "language": "python",
   "name": "python3"
  },
  "language_info": {
   "codemirror_mode": {
    "name": "ipython",
    "version": 3
   },
   "file_extension": ".py",
   "mimetype": "text/x-python",
   "name": "python",
   "nbconvert_exporter": "python",
   "pygments_lexer": "ipython3",
   "version": "3.11.6"
  }
 },
 "nbformat": 4,
 "nbformat_minor": 5
}
